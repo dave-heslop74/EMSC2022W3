{
  "metadata": {
    "language_info": {
      "codemirror_mode": {
        "name": "python",
        "version": 3
      },
      "file_extension": ".py",
      "mimetype": "text/x-python",
      "name": "python",
      "nbconvert_exporter": "python",
      "pygments_lexer": "ipython3",
      "version": "3.8"
    },
    "kernelspec": {
      "name": "python",
      "display_name": "Python (Pyodide)",
      "language": "python"
    }
  },
  "nbformat_minor": 4,
  "nbformat": 4,
  "cells": [
    {
      "cell_type": "markdown",
      "source": "# Approximating $\\pi$\n#### In this notebook we'll look at two different ways of estimating $\\pi$ using the approach of Madhava of Sangamagrama ",
      "metadata": {}
    },
    {
      "cell_type": "markdown",
      "source": "### Import the numpy library ",
      "metadata": {}
    },
    {
      "cell_type": "code",
      "source": "import numpy as np\nimport matplotlib.pyplot as plt",
      "metadata": {
        "trusted": true
      },
      "execution_count": null,
      "outputs": []
    },
    {
      "cell_type": "markdown",
      "source": "## ***Vectorized*** approach\n#### Vectorized code allows the ratios for different values of n to be calculated at the same time and then added together. This approach is fast but requires all the values to be held in the computer memory at the same time",
      "metadata": {}
    },
    {
      "cell_type": "code",
      "source": "n = np.arange(0,10001) #sequence of integers between 0 and 10,000 using arange\nprint(n)",
      "metadata": {
        "trusted": true
      },
      "execution_count": null,
      "outputs": []
    },
    {
      "cell_type": "markdown",
      "source": "#### Find the numerator (```top```), denominator (```bot```) and ratio (```R```) for each value of ```n```",
      "metadata": {}
    },
    {
      "cell_type": "code",
      "source": "top = (-1)**n #numerator\nbot = 2*n+1 #denominator\nR = top/bot #ratio",
      "metadata": {
        "trusted": true
      },
      "execution_count": null,
      "outputs": []
    },
    {
      "cell_type": "markdown",
      "source": "#### Sum all the ratios to find $\\pi / 4$",
      "metadata": {}
    },
    {
      "cell_type": "code",
      "source": "H = np.sum(R) #estimate of pi/4\nprint(H) #print result to screen",
      "metadata": {
        "trusted": true
      },
      "execution_count": null,
      "outputs": []
    },
    {
      "cell_type": "markdown",
      "source": "#### Compare to the value of $\\pi$ used by Numpy",
      "metadata": {}
    },
    {
      "cell_type": "code",
      "source": "print(np.pi/4)",
      "metadata": {
        "trusted": true
      },
      "execution_count": null,
      "outputs": []
    },
    {
      "cell_type": "markdown",
      "source": "#### Make a plot of the approximation as a function of n ",
      "metadata": {}
    },
    {
      "cell_type": "code",
      "source": "plt.plot(n,np.cumsum(R)) #plot the running sum of R\nplt.xlabel('n') #label the x-axis\nplt.ylabel('Estimate of pi/4') #label the y-axis\nplt.plot([0,10000],[np.pi/4,np.pi/4]) #compare to the expected value\nplt.xlim([9900,10000]) #Zoom in the x-axis\nplt.ylim([0.7853,0.7855]) #Zoom in the y-axis",
      "metadata": {
        "trusted": true
      },
      "execution_count": null,
      "outputs": []
    },
    {
      "cell_type": "markdown",
      "source": "## ***For*** loop approach\n#### A for loop calculates the ratios one at a time and adds them to a running total. This approach is slower, but doesn't require all the values to be held in the memory at the same time ",
      "metadata": {}
    },
    {
      "cell_type": "code",
      "source": "nmax = 10001 #set maximum value for n+1\nH = 0 #set initial value of sum to zero\nfor n in range(nmax): #loop through values of n from 0,1,2 ... n-2, n-1\n    top = (-1)**n #numerator\n    bot = 2*n+1 #denominator\n    R = top/bot #ratio\n    H = H+R #add ratio for n onto total",
      "metadata": {
        "trusted": true
      },
      "execution_count": null,
      "outputs": []
    },
    {
      "cell_type": "markdown",
      "source": "#### Show the result on the screen",
      "metadata": {}
    },
    {
      "cell_type": "code",
      "source": "print(H)",
      "metadata": {
        "trusted": true
      },
      "execution_count": null,
      "outputs": []
    },
    {
      "cell_type": "markdown",
      "source": "#### Compare to the value of $\\pi$ used by Numpy",
      "metadata": {}
    },
    {
      "cell_type": "code",
      "source": "print(np.pi/4)",
      "metadata": {
        "trusted": true
      },
      "execution_count": null,
      "outputs": []
    },
    {
      "cell_type": "code",
      "source": "",
      "metadata": {},
      "execution_count": null,
      "outputs": []
    }
  ]
}